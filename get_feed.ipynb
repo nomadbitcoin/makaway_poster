{
 "cells": [
  {
   "cell_type": "code",
   "execution_count": 1,
   "metadata": {},
   "outputs": [],
   "source": [
    "import pickle\n",
    "from engines import databasefunctions\n",
    "from datetime import datetime"
   ]
  },
  {
   "cell_type": "code",
   "execution_count": null,
   "metadata": {},
   "outputs": [],
   "source": []
  },
  {
   "cell_type": "code",
   "execution_count": 2,
   "metadata": {},
   "outputs": [],
   "source": [
    "class GetInformation:\n",
    "    def __init__(self, api=None):\n",
    "        if api == None:\n",
    "            with open('dadosemacao_logged', 'rb') as filee:\n",
    "                api = pickle.load(filee)\n",
    "        \n",
    "        self.api = api\n",
    "        self.database = databasefunctions.Database()\n",
    "        self.username = self.database.getProfile()[0]\n",
    "        \n",
    "    def __call__(self):\n",
    "        if self.username != None:\n",
    "            infos = {}\n",
    "            infos['profile_info'] =  self.getUserInfo()\n",
    "            \n",
    "            assert infos['profile_info'] != None, 'Algum problema com o getUserInfo'\n",
    "            self.database.updateProfile(self.username)\n",
    "            \n",
    "            infos['feed'] = self.getTotalFeed(infos['profile_info']['pk'])\n",
    "            feed_cleaned = [self.getMediaInformation(media) for media in infos['feed']]\n",
    "\n",
    "            self.database.saveFeed(feed_cleaned)\n",
    "        else:\n",
    "            print('nao ha usuario para pegar informacoes')\n",
    "\n",
    "    def getUserInfo(self):\n",
    "        if self.api.searchUsername(self.username):\n",
    "            instagramProfileInfo = self.api.LastJson['user']\n",
    "\n",
    "            #chaves que iremos pegar do json que o instagram devolve com informacoes do usuario \n",
    "            self.profile_info = {'username': '', 'address_street': '', 'biography': '', 'category': '', 'city_id': '', 'city_name': '', 'contact_phone_number': '',\n",
    "                           'external_url': '', 'follower_count': '', 'following_count': '', 'full_name': '', 'profile_pic_url': '', 'zip': '', \n",
    "                           'is_business': '', 'is_private': '', 'media_count': '', 'pk': '', 'public_email': '', 'total_igtv_videos': '', 'usertags_count': ''}\n",
    "\n",
    "            for key in self.profile_info.keys():\n",
    "                 self.profile_info[key] = instagramProfileInfo[key] if key in instagramProfileInfo.keys() else None \n",
    "\n",
    "            self.database.saveProfileInfo(self.profile_info) #salva as informacoes no banco\n",
    "            print('profile info saved in database')\n",
    "            return self.profile_info\n",
    "\n",
    "    def getMediaInformation(self, media):\n",
    "        self.media_info = {'text': '', 'pk': '', 'usertags': '', 'usertags_id': '', 'status': '', 'code': '', 'comment_count': '', 'url': '', 'like_count': '', 'taken_at': '',\n",
    "             'username': '', 'location': '', 'location_id': '', 'location_name': ''}\n",
    "\n",
    "        for key in self.media_info.keys():\n",
    "            try:\n",
    "                if key == 'location' and key in media.keys():\n",
    "                    self.media_info[key] = str(media[key])\n",
    "\n",
    "                elif key == 'usertags' and 'usertags' in media.keys():\n",
    "                    self.media_info[key] = len(media[key]['in'])\n",
    "\n",
    "                elif key == 'comment_count' and key in media.keys() and media['comment_count'] > 0:\n",
    "                    self.media_info[key] = media[key]\n",
    "\n",
    "                elif key == 'like_count' and key in media.keys() and media['like_count'] > 0:\n",
    "                    self.media_info[key] = media[key]\n",
    "\n",
    "                elif key == 'taken_at':\n",
    "                    self.media_info[key] = datetime.fromtimestamp(media[key]).strftime('%y/%m/%d %H:%M:%S')\n",
    "\n",
    "                elif key == 'text' and key != None and media['caption'] !=None :\n",
    "                    self.media_info[key] = media['caption'][key]        \n",
    "\n",
    "                elif key == 'username':\n",
    "                    self.media_info[key] = media['user'][key]\n",
    "                elif key == 'url':\n",
    "                    self.media_info[key] = media['image_versions2']['candidates'][0][key]\n",
    "                elif key in media.keys():\n",
    "                    self.media_info[key] = media[key]\n",
    "            except KeyError:\n",
    "                pass\n",
    "            except BaseException as error:\n",
    "                #self.database.saveError(error, 'getting media info')\n",
    "                print('Error ocurred in: getMediaInformation --> {}'.format(error))\n",
    "        return self.media_info\n",
    "    \n",
    "    def getTotalFeed(self, user_id):\n",
    "        feed = []\n",
    "        next_max_id = True\n",
    "        while next_max_id:\n",
    "            if next_max_id is True:\n",
    "                next_max_id = ''\n",
    "\n",
    "            _ = self.api.getUserFeed(user_id, maxid=next_max_id)\n",
    "            feed.extend(self.api.LastJson['items'])\n",
    "            next_max_id = self.api.LastJson.get('next_max_id', '')\n",
    "\n",
    "        return feed\n"
   ]
  },
  {
   "cell_type": "code",
   "execution_count": 3,
   "metadata": {},
   "outputs": [
    {
     "name": "stdout",
     "output_type": "stream",
     "text": [
      "Fail to import moviepy. Need only for Video upload.\n",
      "profile info saved in database\n"
     ]
    }
   ],
   "source": [
    "if __name__ == '__main__':\n",
    "    gt = GetInformation()\n",
    "    gt()"
   ]
  }
 ],
 "metadata": {
  "kernelspec": {
   "display_name": "Python 3",
   "language": "python",
   "name": "python3"
  },
  "language_info": {
   "codemirror_mode": {
    "name": "ipython",
    "version": 3
   },
   "file_extension": ".py",
   "mimetype": "text/x-python",
   "name": "python",
   "nbconvert_exporter": "python",
   "pygments_lexer": "ipython3",
   "version": "3.5.3"
  }
 },
 "nbformat": 4,
 "nbformat_minor": 2
}
